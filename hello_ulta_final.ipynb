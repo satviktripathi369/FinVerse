{
 "cells": [
  {
   "attachments": {},
   "cell_type": "markdown",
   "metadata": {},
   "source": [
    "# Main Notebook"
   ]
  },
  {
   "attachments": {},
   "cell_type": "markdown",
   "metadata": {},
   "source": [
    "## importing files and loading csv"
   ]
  },
  {
   "cell_type": "code",
   "execution_count": 5,
   "metadata": {},
   "outputs": [],
   "source": [
    "# important imports\n",
    "import pandas as pd\n",
    "import numpy as np"
   ]
  },
  {
   "cell_type": "code",
   "execution_count": 6,
   "metadata": {},
   "outputs": [],
   "source": [
    "# loading csv\n",
    "df = pd.read_csv(\"/Users/ekamsinghahuja/Desktop/untitled folder/Training Data.csv\")"
   ]
  },
  {
   "attachments": {},
   "cell_type": "markdown",
   "metadata": {},
   "source": [
    "# Reduction of Data\n",
    "## this is done due to massive amount of data is pointing towards not approved \n",
    "few of our models are predicting only not approved and sill we are getting accuracy above 80. we have also tried SMOT but that is not good for huge categorical data .we have tried other formats of smot as well, like smotenc .But it does not work . So, we have used data reduction"
   ]
  },
  {
   "cell_type": "code",
   "execution_count": 7,
   "metadata": {},
   "outputs": [],
   "source": [
    "from sklearn import imblearn.over_sampling.SMOTENC\n",
    "df1 = df[df['risk_flag']==0]\n",
    "df2 = df[df['risk_flag']==1]\n",
    "from sklearn.utils import shuffle\n",
    "df1 = shuffle(df1)\n",
    "df1=df1.reset_index()\n",
    "df1 = df1.iloc[0:40000,:]\n",
    "df1 = df1.drop('index',axis=1)\n",
    "df = pd.concat([df1,df2],ignore_index=True)\n",
    "df=shuffle(df)\n",
    "df=df.reset_index()\n",
    "df = df.drop('index',axis=1)"
   ]
  },
  {
   "attachments": {},
   "cell_type": "markdown",
   "metadata": {},
   "source": [
    "## Creating list of columns required to be Deleted, Encoded and Scaled"
   ]
  },
  {
   "cell_type": "code",
   "execution_count": 8,
   "metadata": {},
   "outputs": [],
   "source": [
    "drop_cols = ['Id','city']\n",
    "#onehot encoded columns\n",
    "target_col = ['car_ownership','house_ownership','married','current_job_years','current_house_years','experience','state','profession']\n",
    "#label encoded columns\n",
    "object_cols=[]"
   ]
  },
  {
   "cell_type": "code",
   "execution_count": 9,
   "metadata": {},
   "outputs": [],
   "source": [
    "df = df.drop(drop_cols,axis = 1)"
   ]
  },
  {
   "attachments": {},
   "cell_type": "markdown",
   "metadata": {},
   "source": [
    "# Handling Our Categorial Data\n",
    " we have used OneHotEncoder and applied it on 'profession','car_ownership','house_ownership','married' . This combination is selected by repeated test run and best combination is selected"
   ]
  },
  {
   "cell_type": "code",
   "execution_count": 10,
   "metadata": {},
   "outputs": [],
   "source": [
    "from sklearn.preprocessing import OneHotEncoder\n",
    "'''extracting encoded data'''\n",
    "enc=OneHotEncoder(handle_unknown='ignore', sparse=False)\n",
    "enc_data = pd.DataFrame(enc.fit_transform(df[target_col]))\n",
    "\n",
    "one_hot_encoded_data = pd.get_dummies(df, columns = target_col)\n",
    "\n",
    "'''updating our dataset without distroying our raw dataframe'''\n",
    "df_new = df.join(enc_data)\n",
    "df_new.columns = df_new.columns.astype('str')\n",
    "df_new = df_new.drop(target_col,axis = 1)\n"
   ]
  },
  {
   "attachments": {},
   "cell_type": "markdown",
   "metadata": {},
   "source": [
    "# Creating our main X and Y as x_data and y_data"
   ]
  },
  {
   "cell_type": "code",
   "execution_count": 11,
   "metadata": {},
   "outputs": [],
   "source": [
    "'''our y as y_data'''\n",
    "y_data = df_new['risk_flag']\n",
    "\n",
    "'''our x as x_data'''\n",
    "x_data = df_new.drop(['risk_flag'],axis = 1)\n"
   ]
  },
  {
   "attachments": {},
   "cell_type": "markdown",
   "metadata": {},
   "source": [
    "# Spliting Our Data for Training and Testing"
   ]
  },
  {
   "cell_type": "code",
   "execution_count": 12,
   "metadata": {},
   "outputs": [],
   "source": [
    "from sklearn.model_selection import train_test_split\n",
    "X_train, X_test, Y_train, Y_test = train_test_split(x_data,y_data,random_state=47,test_size=0.20)"
   ]
  },
  {
   "attachments": {},
   "cell_type": "markdown",
   "metadata": {},
   "source": [
    "# Scaling Using Standard Scaler\n",
    "standard scaler is used because  MinMaxScaler is giving low accuracy . everything is selected after multiple test run . To understand our test run you can refer to our data visualisation file"
   ]
  },
  {
   "cell_type": "code",
   "execution_count": 13,
   "metadata": {},
   "outputs": [],
   "source": [
    "from sklearn.preprocessing import MinMaxScaler,StandardScaler\n",
    "\n",
    "scaled_col= ['income','age']\n",
    "scaler=StandardScaler()\n",
    "X_train.loc[:,scaled_col] = scaler.fit_transform(X_train.loc[:,scaled_col])\n",
    "X_test.loc[:,scaled_col] = scaler.transform(X_test.loc[:,scaled_col])"
   ]
  },
  {
   "attachments": {},
   "cell_type": "markdown",
   "metadata": {},
   "source": [
    "# K Nearest Neighbors Classifier is Used as Main Model \n",
    "In genral banking system knn is used for loan approval testing but capital owned by the person is dominant feature. And many people due to this are unable to approve their loan. To solve this problem we have removed such kind of data and features. "
   ]
  },
  {
   "cell_type": "code",
   "execution_count": 14,
   "metadata": {},
   "outputs": [
    {
     "data": {
      "text/html": [
       "<style>#sk-container-id-1 {color: black;background-color: white;}#sk-container-id-1 pre{padding: 0;}#sk-container-id-1 div.sk-toggleable {background-color: white;}#sk-container-id-1 label.sk-toggleable__label {cursor: pointer;display: block;width: 100%;margin-bottom: 0;padding: 0.3em;box-sizing: border-box;text-align: center;}#sk-container-id-1 label.sk-toggleable__label-arrow:before {content: \"▸\";float: left;margin-right: 0.25em;color: #696969;}#sk-container-id-1 label.sk-toggleable__label-arrow:hover:before {color: black;}#sk-container-id-1 div.sk-estimator:hover label.sk-toggleable__label-arrow:before {color: black;}#sk-container-id-1 div.sk-toggleable__content {max-height: 0;max-width: 0;overflow: hidden;text-align: left;background-color: #f0f8ff;}#sk-container-id-1 div.sk-toggleable__content pre {margin: 0.2em;color: black;border-radius: 0.25em;background-color: #f0f8ff;}#sk-container-id-1 input.sk-toggleable__control:checked~div.sk-toggleable__content {max-height: 200px;max-width: 100%;overflow: auto;}#sk-container-id-1 input.sk-toggleable__control:checked~label.sk-toggleable__label-arrow:before {content: \"▾\";}#sk-container-id-1 div.sk-estimator input.sk-toggleable__control:checked~label.sk-toggleable__label {background-color: #d4ebff;}#sk-container-id-1 div.sk-label input.sk-toggleable__control:checked~label.sk-toggleable__label {background-color: #d4ebff;}#sk-container-id-1 input.sk-hidden--visually {border: 0;clip: rect(1px 1px 1px 1px);clip: rect(1px, 1px, 1px, 1px);height: 1px;margin: -1px;overflow: hidden;padding: 0;position: absolute;width: 1px;}#sk-container-id-1 div.sk-estimator {font-family: monospace;background-color: #f0f8ff;border: 1px dotted black;border-radius: 0.25em;box-sizing: border-box;margin-bottom: 0.5em;}#sk-container-id-1 div.sk-estimator:hover {background-color: #d4ebff;}#sk-container-id-1 div.sk-parallel-item::after {content: \"\";width: 100%;border-bottom: 1px solid gray;flex-grow: 1;}#sk-container-id-1 div.sk-label:hover label.sk-toggleable__label {background-color: #d4ebff;}#sk-container-id-1 div.sk-serial::before {content: \"\";position: absolute;border-left: 1px solid gray;box-sizing: border-box;top: 0;bottom: 0;left: 50%;z-index: 0;}#sk-container-id-1 div.sk-serial {display: flex;flex-direction: column;align-items: center;background-color: white;padding-right: 0.2em;padding-left: 0.2em;position: relative;}#sk-container-id-1 div.sk-item {position: relative;z-index: 1;}#sk-container-id-1 div.sk-parallel {display: flex;align-items: stretch;justify-content: center;background-color: white;position: relative;}#sk-container-id-1 div.sk-item::before, #sk-container-id-1 div.sk-parallel-item::before {content: \"\";position: absolute;border-left: 1px solid gray;box-sizing: border-box;top: 0;bottom: 0;left: 50%;z-index: -1;}#sk-container-id-1 div.sk-parallel-item {display: flex;flex-direction: column;z-index: 1;position: relative;background-color: white;}#sk-container-id-1 div.sk-parallel-item:first-child::after {align-self: flex-end;width: 50%;}#sk-container-id-1 div.sk-parallel-item:last-child::after {align-self: flex-start;width: 50%;}#sk-container-id-1 div.sk-parallel-item:only-child::after {width: 0;}#sk-container-id-1 div.sk-dashed-wrapped {border: 1px dashed gray;margin: 0 0.4em 0.5em 0.4em;box-sizing: border-box;padding-bottom: 0.4em;background-color: white;}#sk-container-id-1 div.sk-label label {font-family: monospace;font-weight: bold;display: inline-block;line-height: 1.2em;}#sk-container-id-1 div.sk-label-container {text-align: center;}#sk-container-id-1 div.sk-container {/* jupyter's `normalize.less` sets `[hidden] { display: none; }` but bootstrap.min.css set `[hidden] { display: none !important; }` so we also need the `!important` here to be able to override the default hidden behavior on the sphinx rendered scikit-learn.org. See: https://github.com/scikit-learn/scikit-learn/issues/21755 */display: inline-block !important;position: relative;}#sk-container-id-1 div.sk-text-repr-fallback {display: none;}</style><div id=\"sk-container-id-1\" class=\"sk-top-container\"><div class=\"sk-text-repr-fallback\"><pre>KNeighborsClassifier(n_neighbors=3)</pre><b>In a Jupyter environment, please rerun this cell to show the HTML representation or trust the notebook. <br />On GitHub, the HTML representation is unable to render, please try loading this page with nbviewer.org.</b></div><div class=\"sk-container\" hidden><div class=\"sk-item\"><div class=\"sk-estimator sk-toggleable\"><input class=\"sk-toggleable__control sk-hidden--visually\" id=\"sk-estimator-id-1\" type=\"checkbox\" checked><label for=\"sk-estimator-id-1\" class=\"sk-toggleable__label sk-toggleable__label-arrow\">KNeighborsClassifier</label><div class=\"sk-toggleable__content\"><pre>KNeighborsClassifier(n_neighbors=3)</pre></div></div></div></div></div>"
      ],
      "text/plain": [
       "KNeighborsClassifier(n_neighbors=3)"
      ]
     },
     "execution_count": 14,
     "metadata": {},
     "output_type": "execute_result"
    }
   ],
   "source": [
    "from sklearn.neighbors import KNeighborsClassifier\n",
    "clasify = KNeighborsClassifier(n_neighbors=3)\n",
    "x_help = X_train.copy()\n",
    "y_help = Y_train.copy()\n",
    "clasify.fit(x_help,y_help)"
   ]
  },
  {
   "cell_type": "code",
   "execution_count": 15,
   "metadata": {},
   "outputs": [],
   "source": [
    "y_pred=clasify.predict(x_help)"
   ]
  },
  {
   "attachments": {},
   "cell_type": "markdown",
   "metadata": {},
   "source": [
    "# Our Main Recommendation and Score Prediction System\n"
   ]
  },
  {
   "attachments": {},
   "cell_type": "markdown",
   "metadata": {},
   "source": [
    "## For Score : \n",
    "we have used genral probability predicted by our model for loan approval"
   ]
  },
  {
   "attachments": {},
   "cell_type": "markdown",
   "metadata": {},
   "source": [
    "## For Recommendation:\n",
    "we have used data which got their loan approval and closely related to user data and gave tips to user for improving his score "
   ]
  },
  {
   "cell_type": "code",
   "execution_count": 16,
   "metadata": {},
   "outputs": [],
   "source": [
    "import math\n",
    "import random\n",
    "\n",
    "def find_my_nearest_people_help(x_help_array , y_pred_array , data , no_people,index):\n",
    "    '''this function finds the nearest neighbour in the data set and return list of \n",
    "    those people'''\n",
    "  \n",
    "    li = []\n",
    "    count=0\n",
    "    \n",
    "    for i in x_help_array[y_pred_array==1]:\n",
    "        actual_index = index[count]\n",
    "        d = math.dist(data,i)\n",
    "        count = count+1\n",
    "        li.append((d,i,actual_index))\n",
    "    li.sort(key=lambda a: a[0])\n",
    "    return li[0:no_people]\n",
    "\n",
    "def find_my_nearest_people(x_help , y_pred , user_data):\n",
    "    '''this function finds the nearest neighbour in the data set and return indexing,\n",
    "    distances of those people'''\n",
    "    \n",
    "    x_help_array = np.array(x_help)\n",
    "    y_pred_array = y_pred\n",
    "    no_people = 5\n",
    "    user_data = np.array(user_data)[0]\n",
    "   \n",
    "    indexing = x_help.index[y_pred==1]\n",
    "    li = find_my_nearest_people_help(x_help_array , y_pred_array , user_data , no_people,indexing)\n",
    "    \n",
    "    distances = [x[0] for x in li]\n",
    "    index_list = [x[2] for x in li]\n",
    "    return index_list,distances\n",
    "\n",
    "def refine_input(data):\n",
    "    '''this function takes raw dataframe and encode and scale them and return dataframe'''\n",
    "    enc_data = pd.DataFrame(enc.transform(data[target_col]))\n",
    "    one_hot_encoded_data = pd.get_dummies(data, columns = target_col)\n",
    "    data = data.join(enc_data)\n",
    "    data.columns = data.columns.astype('str')\n",
    "    data.loc[:,scaled_col] = scaler.transform(data.loc[:,scaled_col])\n",
    "    data = data.drop(target_col,axis = 1)\n",
    "    return data\n",
    "\n",
    "def enterred_data(info):\n",
    "    '''this function takes string and return list of values'''\n",
    "    li = info.split()\n",
    "    li[0] = int(li[0])\n",
    "    li[1] = int(li[1])\n",
    "    li[2] = int(li[2])\n",
    "    li[8] = int(li[8])\n",
    "    li[9] = int(li[9])\n",
    "    columns_li=['income','age','experience','married','house_ownership','car_ownership','profession','state','current_job_years','current_house_years']\n",
    "    info_update = pd.DataFrame(np.array(li).reshape(1,-1),columns=columns_li)\n",
    "    return info_update\n",
    "\n",
    "\n",
    "\n",
    "\n",
    "def take_input_and_predict():\n",
    "    '''take input from from user and give classification'''\n",
    "    data_by_user = input()\n",
    "    data1 = enterred_data(data_by_user)\n",
    "    print(data1)\n",
    "    data1 = refine_input(data1)\n",
    "    if clasify.predict(data1)[0]==0:\n",
    "        return 0\n",
    "        \n",
    "    else:\n",
    "        return 1\n",
    "    \n",
    "\n",
    "def input_only():\n",
    "    '''take input from from user and give dataFrame'''\n",
    "    data_by_user = input()\n",
    "    data1 = enterred_data(data_by_user)\n",
    "    data1 = refine_input(data1)    \n",
    "    return data1 \n",
    "\n",
    "\n",
    "\n",
    "def find_li(x_help_array , y_pred_array , data , no_people,index):\n",
    "    \n",
    "  \n",
    "    li = []\n",
    "    count=0\n",
    "    \n",
    "    for i in x_help_array:\n",
    "        actual_index = index[count]\n",
    "        d = math.dist(data,i)\n",
    "        count = count+1\n",
    "        li.append((d,i,actual_index))\n",
    "    li.sort(key=lambda a: a[0])\n",
    "    return li[0:no_people]\n",
    "\n",
    "def _score(data):\n",
    "    scored = clasify.predict_proba(data)[0][1]*100\n",
    "    if scored<25:\n",
    "        return \"below requirements\"\n",
    "    elif scored>25 and scored<55:\n",
    "        return \"fair\"\n",
    "    elif scored>55 and scored<75:\n",
    "        return \"okay\"\n",
    "    else:\n",
    "        return \"good\"\n",
    "    \n",
    "\n",
    "def recommend(df):\n",
    "    target_col_median = ['income','experience']\n",
    "    target_col_mode = ['married','house_ownership','car_ownership','current_job_years','current_house_years']\n",
    "    ans= []\n",
    "    for i in target_col_median:\n",
    "        \n",
    "        ans.append(df[[i]].median()[0])\n",
    "    for i in target_col_mode:\n",
    "        ans.append(df[i].value_counts().index[0])\n",
    "    return ans\n"
   ]
  },
  {
   "cell_type": "code",
   "execution_count": 17,
   "metadata": {},
   "outputs": [],
   "source": [
    "#6999938 25 3 single rented yes Air_traffic_controller Delhi 3 13"
   ]
  },
  {
   "attachments": {},
   "cell_type": "markdown",
   "metadata": {},
   "source": [
    "# Main Run Function "
   ]
  },
  {
   "cell_type": "code",
   "execution_count": 18,
   "metadata": {},
   "outputs": [],
   "source": [
    "def run():\n",
    "    data_of_user = input_only()\n",
    "    value = clasify.predict(data_of_user)[0]\n",
    "    scored = _score(data_of_user)\n",
    "    keys,dist =find_my_nearest_people(x_help , y_pred , data_of_user)\n",
    "    hh = df.loc[keys]\n",
    "    if value==0:\n",
    "        return value,recommend(hh),scored\n",
    "    else:\n",
    "        return value,\"congo! loan approved\",scored\n",
    "    "
   ]
  },
  {
   "cell_type": "code",
   "execution_count": 19,
   "metadata": {},
   "outputs": [
    {
     "data": {
      "text/plain": [
       "(1, 'congo! loan approved', 'good')"
      ]
     },
     "execution_count": 19,
     "metadata": {},
     "output_type": "execute_result"
    }
   ],
   "source": [
    "run()"
   ]
  },
  {
   "attachments": {},
   "cell_type": "markdown",
   "metadata": {},
   "source": [
    "# Accuracy Check"
   ]
  },
  {
   "cell_type": "code",
   "execution_count": 20,
   "metadata": {},
   "outputs": [
    {
     "name": "stdout",
     "output_type": "stream",
     "text": [
      "0.8813296711035988\n",
      "0.8440140845070423\n"
     ]
    }
   ],
   "source": [
    "from sklearn.metrics import accuracy_score, precision_score, recall_score, f1_score\n",
    "Y_test_pred = clasify.predict(X_test)\n",
    "Y_train_pred = clasify.predict(X_train)\n",
    "print(accuracy_score(Y_train_pred, Y_train))\n",
    "print(accuracy_score(Y_test_pred, Y_test))"
   ]
  },
  {
   "cell_type": "code",
   "execution_count": 21,
   "metadata": {},
   "outputs": [
    {
     "data": {
      "text/html": [
       "<div>\n",
       "<style scoped>\n",
       "    .dataframe tbody tr th:only-of-type {\n",
       "        vertical-align: middle;\n",
       "    }\n",
       "\n",
       "    .dataframe tbody tr th {\n",
       "        vertical-align: top;\n",
       "    }\n",
       "\n",
       "    .dataframe thead th {\n",
       "        text-align: right;\n",
       "    }\n",
       "</style>\n",
       "<table border=\"1\" class=\"dataframe\">\n",
       "  <thead>\n",
       "    <tr style=\"text-align: right;\">\n",
       "      <th></th>\n",
       "      <th>income</th>\n",
       "      <th>age</th>\n",
       "      <th>experience</th>\n",
       "      <th>married</th>\n",
       "      <th>house_ownership</th>\n",
       "      <th>car_ownership</th>\n",
       "      <th>profession</th>\n",
       "      <th>state</th>\n",
       "      <th>current_job_years</th>\n",
       "      <th>current_house_years</th>\n",
       "      <th>risk_flag</th>\n",
       "    </tr>\n",
       "  </thead>\n",
       "  <tbody>\n",
       "    <tr>\n",
       "      <th>0</th>\n",
       "      <td>6050608</td>\n",
       "      <td>70</td>\n",
       "      <td>0</td>\n",
       "      <td>single</td>\n",
       "      <td>rented</td>\n",
       "      <td>yes</td>\n",
       "      <td>Comedian</td>\n",
       "      <td>Rajasthan</td>\n",
       "      <td>0</td>\n",
       "      <td>14</td>\n",
       "      <td>1</td>\n",
       "    </tr>\n",
       "    <tr>\n",
       "      <th>1</th>\n",
       "      <td>668849</td>\n",
       "      <td>74</td>\n",
       "      <td>15</td>\n",
       "      <td>single</td>\n",
       "      <td>rented</td>\n",
       "      <td>no</td>\n",
       "      <td>Psychologist</td>\n",
       "      <td>Gujarat</td>\n",
       "      <td>13</td>\n",
       "      <td>11</td>\n",
       "      <td>1</td>\n",
       "    </tr>\n",
       "    <tr>\n",
       "      <th>2</th>\n",
       "      <td>5979323</td>\n",
       "      <td>56</td>\n",
       "      <td>11</td>\n",
       "      <td>single</td>\n",
       "      <td>rented</td>\n",
       "      <td>no</td>\n",
       "      <td>Firefighter</td>\n",
       "      <td>Madhya_Pradesh</td>\n",
       "      <td>6</td>\n",
       "      <td>13</td>\n",
       "      <td>1</td>\n",
       "    </tr>\n",
       "    <tr>\n",
       "      <th>3</th>\n",
       "      <td>7812712</td>\n",
       "      <td>59</td>\n",
       "      <td>14</td>\n",
       "      <td>single</td>\n",
       "      <td>owned</td>\n",
       "      <td>no</td>\n",
       "      <td>Architect</td>\n",
       "      <td>Jharkhand</td>\n",
       "      <td>11</td>\n",
       "      <td>11</td>\n",
       "      <td>0</td>\n",
       "    </tr>\n",
       "    <tr>\n",
       "      <th>4</th>\n",
       "      <td>3952093</td>\n",
       "      <td>57</td>\n",
       "      <td>7</td>\n",
       "      <td>single</td>\n",
       "      <td>rented</td>\n",
       "      <td>no</td>\n",
       "      <td>Police_officer</td>\n",
       "      <td>Uttar_Pradesh</td>\n",
       "      <td>7</td>\n",
       "      <td>10</td>\n",
       "      <td>1</td>\n",
       "    </tr>\n",
       "    <tr>\n",
       "      <th>...</th>\n",
       "      <td>...</td>\n",
       "      <td>...</td>\n",
       "      <td>...</td>\n",
       "      <td>...</td>\n",
       "      <td>...</td>\n",
       "      <td>...</td>\n",
       "      <td>...</td>\n",
       "      <td>...</td>\n",
       "      <td>...</td>\n",
       "      <td>...</td>\n",
       "      <td>...</td>\n",
       "    </tr>\n",
       "    <tr>\n",
       "      <th>70991</th>\n",
       "      <td>2837107</td>\n",
       "      <td>70</td>\n",
       "      <td>3</td>\n",
       "      <td>single</td>\n",
       "      <td>rented</td>\n",
       "      <td>no</td>\n",
       "      <td>Consultant</td>\n",
       "      <td>West_Bengal</td>\n",
       "      <td>3</td>\n",
       "      <td>11</td>\n",
       "      <td>1</td>\n",
       "    </tr>\n",
       "    <tr>\n",
       "      <th>70992</th>\n",
       "      <td>5554480</td>\n",
       "      <td>25</td>\n",
       "      <td>19</td>\n",
       "      <td>single</td>\n",
       "      <td>rented</td>\n",
       "      <td>yes</td>\n",
       "      <td>Engineer</td>\n",
       "      <td>Bihar</td>\n",
       "      <td>12</td>\n",
       "      <td>10</td>\n",
       "      <td>0</td>\n",
       "    </tr>\n",
       "    <tr>\n",
       "      <th>70993</th>\n",
       "      <td>9678663</td>\n",
       "      <td>46</td>\n",
       "      <td>0</td>\n",
       "      <td>single</td>\n",
       "      <td>rented</td>\n",
       "      <td>no</td>\n",
       "      <td>Surgeon</td>\n",
       "      <td>Andhra_Pradesh</td>\n",
       "      <td>0</td>\n",
       "      <td>12</td>\n",
       "      <td>0</td>\n",
       "    </tr>\n",
       "    <tr>\n",
       "      <th>70994</th>\n",
       "      <td>6741252</td>\n",
       "      <td>79</td>\n",
       "      <td>19</td>\n",
       "      <td>married</td>\n",
       "      <td>rented</td>\n",
       "      <td>no</td>\n",
       "      <td>Artist</td>\n",
       "      <td>Karnataka</td>\n",
       "      <td>13</td>\n",
       "      <td>12</td>\n",
       "      <td>0</td>\n",
       "    </tr>\n",
       "    <tr>\n",
       "      <th>70995</th>\n",
       "      <td>8382400</td>\n",
       "      <td>76</td>\n",
       "      <td>18</td>\n",
       "      <td>single</td>\n",
       "      <td>rented</td>\n",
       "      <td>yes</td>\n",
       "      <td>Industrial_Engineer</td>\n",
       "      <td>Andhra_Pradesh</td>\n",
       "      <td>4</td>\n",
       "      <td>13</td>\n",
       "      <td>0</td>\n",
       "    </tr>\n",
       "  </tbody>\n",
       "</table>\n",
       "<p>70996 rows × 11 columns</p>\n",
       "</div>"
      ],
      "text/plain": [
       "        income  age  experience  married house_ownership car_ownership  \\\n",
       "0      6050608   70           0   single          rented           yes   \n",
       "1       668849   74          15   single          rented            no   \n",
       "2      5979323   56          11   single          rented            no   \n",
       "3      7812712   59          14   single           owned            no   \n",
       "4      3952093   57           7   single          rented            no   \n",
       "...        ...  ...         ...      ...             ...           ...   \n",
       "70991  2837107   70           3   single          rented            no   \n",
       "70992  5554480   25          19   single          rented           yes   \n",
       "70993  9678663   46           0   single          rented            no   \n",
       "70994  6741252   79          19  married          rented            no   \n",
       "70995  8382400   76          18   single          rented           yes   \n",
       "\n",
       "                profession           state  current_job_years  \\\n",
       "0                 Comedian       Rajasthan                  0   \n",
       "1             Psychologist         Gujarat                 13   \n",
       "2              Firefighter  Madhya_Pradesh                  6   \n",
       "3                Architect       Jharkhand                 11   \n",
       "4           Police_officer   Uttar_Pradesh                  7   \n",
       "...                    ...             ...                ...   \n",
       "70991           Consultant     West_Bengal                  3   \n",
       "70992             Engineer           Bihar                 12   \n",
       "70993              Surgeon  Andhra_Pradesh                  0   \n",
       "70994               Artist       Karnataka                 13   \n",
       "70995  Industrial_Engineer  Andhra_Pradesh                  4   \n",
       "\n",
       "       current_house_years  risk_flag  \n",
       "0                       14          1  \n",
       "1                       11          1  \n",
       "2                       13          1  \n",
       "3                       11          0  \n",
       "4                       10          1  \n",
       "...                    ...        ...  \n",
       "70991                   11          1  \n",
       "70992                   10          0  \n",
       "70993                   12          0  \n",
       "70994                   12          0  \n",
       "70995                   13          0  \n",
       "\n",
       "[70996 rows x 11 columns]"
      ]
     },
     "execution_count": 21,
     "metadata": {},
     "output_type": "execute_result"
    }
   ],
   "source": [
    "df"
   ]
  },
  {
   "cell_type": "code",
   "execution_count": null,
   "metadata": {},
   "outputs": [],
   "source": []
  }
 ],
 "metadata": {
  "kernelspec": {
   "display_name": "Python 3",
   "language": "python",
   "name": "python3"
  },
  "language_info": {
   "codemirror_mode": {
    "name": "ipython",
    "version": 3
   },
   "file_extension": ".py",
   "mimetype": "text/x-python",
   "name": "python",
   "nbconvert_exporter": "python",
   "pygments_lexer": "ipython3",
   "version": "3.10.6"
  },
  "orig_nbformat": 4,
  "vscode": {
   "interpreter": {
    "hash": "aee8b7b246df8f9039afb4144a1f6fd8d2ca17a180786b69acc140d282b71a49"
   }
  }
 },
 "nbformat": 4,
 "nbformat_minor": 2
}
